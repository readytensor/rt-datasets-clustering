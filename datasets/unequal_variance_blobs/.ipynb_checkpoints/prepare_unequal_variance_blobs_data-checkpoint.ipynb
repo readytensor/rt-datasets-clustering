{
 "cells": [
  {
   "cell_type": "code",
   "execution_count": 163,
   "id": "83c4270b",
   "metadata": {},
   "outputs": [],
   "source": [
    "import numpy as np\n",
    "import pandas as pd\n",
    "import os\n",
    "import pprint\n",
    "import json\n",
    "import random\n",
    "import matplotlib.pyplot as plt\n",
    "from sklearn.manifold import TSNE\n",
    "%matplotlib inline"
   ]
  },
  {
   "cell_type": "code",
   "execution_count": 164,
   "id": "660976a7",
   "metadata": {},
   "outputs": [],
   "source": [
    "dataset_name = 'unequal_variance_blobs'"
   ]
  },
  {
   "cell_type": "code",
   "execution_count": 165,
   "id": "2844f9c9",
   "metadata": {},
   "outputs": [],
   "source": [
    "input_dir = './raw'\n",
    "output_dir = './processed'\n",
    "\n",
    "inp_fname = f'unequal_variance_blobs.csv'\n",
    "\n",
    "outp_fname = os.path.join(output_dir, f'{dataset_name}.csv')\n",
    "outp_test_key_fname = os.path.join(output_dir, f'{dataset_name}_test_key.csv')\n",
    "outp_infer_instances = os.path.join(output_dir, f'{dataset_name}_infer_req.json')\n",
    "outp_fig_fname = os.path.join(output_dir, f'{dataset_name}.png')"
   ]
  },
  {
   "cell_type": "markdown",
   "id": "b14df44b",
   "metadata": {},
   "source": [
    "# Create Data"
   ]
  },
  {
   "cell_type": "code",
   "execution_count": 166,
   "id": "7e842865",
   "metadata": {},
   "outputs": [],
   "source": [
    "def set_seeds():\n",
    "    np.random.seed(0)\n",
    "    random.seed(0)"
   ]
  },
  {
   "cell_type": "code",
   "execution_count": 167,
   "id": "63fc9183",
   "metadata": {},
   "outputs": [],
   "source": [
    "def get_cov_matrix():\n",
    "    A = np.random.rand(NUM_FEATURES, NUM_FEATURES)\n",
    "    B = np.dot(A, A.transpose())\n",
    "    \n",
    "    rand_scale = np.random.uniform(.1,10)\n",
    "    B = B * rand_scale\n",
    "    return B\n",
    "          \n",
    "#get_cov_matrix()"
   ]
  },
  {
   "cell_type": "code",
   "execution_count": 168,
   "id": "904c97a8",
   "metadata": {},
   "outputs": [],
   "source": [
    "def get_cluster_params():\n",
    "    num_samples = np.random.randint(NUM_SAMPLES_FROM_CLUSTER_MIN, NUM_SAMPLES_FROM_CLUSTER_MAX)\n",
    "    mean = np.random.uniform(MEAN_MIN,MEAN_MAX,NUM_FEATURES)\n",
    "    cov = get_cov_matrix()\n",
    "    return {\n",
    "        \"num_samples\": num_samples,\n",
    "        \"mean\": mean,\n",
    "        \"cov\": cov\n",
    "    }"
   ]
  },
  {
   "cell_type": "code",
   "execution_count": 169,
   "id": "4409c84b",
   "metadata": {},
   "outputs": [],
   "source": [
    "def get_cluster_samples(cluster_params):\n",
    "    samples = np.random.multivariate_normal(\n",
    "        mean=cluster_params[\"mean\"], \n",
    "        cov=cluster_params[\"cov\"],  \n",
    "        size=cluster_params[\"num_samples\"]\n",
    "    )\n",
    "    return samples"
   ]
  },
  {
   "cell_type": "code",
   "execution_count": null,
   "id": "c97b3b97",
   "metadata": {},
   "outputs": [],
   "source": []
  },
  {
   "cell_type": "code",
   "execution_count": 170,
   "id": "d5be635f",
   "metadata": {},
   "outputs": [
    {
     "name": "stdout",
     "output_type": "stream",
     "text": [
      "(array([0., 1., 2., 3., 4., 5., 6., 7.]), array([ 984, 1404,  970, 1196,  302,  695, 1412, 1104], dtype=int64)) (8067,)\n"
     ]
    }
   ],
   "source": [
    "MEAN_MIN = -3.\n",
    "MEAN_MAX = 3.\n",
    "COV_MIN = -5.\n",
    "COV_MAX = 5.\n",
    "\n",
    "NUM_FEATURES = 8\n",
    "\n",
    "NUM_CLUSTERS = 8\n",
    "\n",
    "NUM_SAMPLES_FROM_CLUSTER_MIN = 300\n",
    "NUM_SAMPLES_FROM_CLUSTER_MAX = 1500\n",
    "\n",
    "set_seeds()\n",
    "\n",
    "all_Xs, all_ys = [], []\n",
    "for i in range(NUM_CLUSTERS):\n",
    "    cluster_params = get_cluster_params()\n",
    "    samples = get_cluster_samples(cluster_params)\n",
    "    all_Xs.append(samples)\n",
    "    all_ys.append(np.ones(shape=samples.shape[0])*i)\n",
    "    \n",
    "X = np.concatenate(all_Xs, axis=0)\n",
    "y = np.concatenate(all_ys, axis=0)\n",
    "print(np.unique(y, return_counts=True), y.shape)"
   ]
  },
  {
   "cell_type": "code",
   "execution_count": 171,
   "id": "80a25bee",
   "metadata": {},
   "outputs": [],
   "source": [
    "if NUM_FEATURES == 2:\n",
    "    fig = plt.scatter(Xs[:,0], Xs[:, 1], alpha=0.2, c=ys)"
   ]
  },
  {
   "cell_type": "markdown",
   "id": "cf7a2298",
   "metadata": {},
   "source": [
    "# Plot the Generated Data"
   ]
  },
  {
   "cell_type": "code",
   "execution_count": 172,
   "id": "33d0dd28",
   "metadata": {},
   "outputs": [
    {
     "data": {
      "text/plain": [
       "(8067, 2)"
      ]
     },
     "execution_count": 172,
     "metadata": {},
     "output_type": "execute_result"
    }
   ],
   "source": [
    "tsne = TSNE(n_components=2)\n",
    "\n",
    "fitted_data = tsne.fit_transform(X)\n",
    "fitted_data.shape"
   ]
  },
  {
   "cell_type": "code",
   "execution_count": 1,
   "id": "f203ad5f",
   "metadata": {},
   "outputs": [
    {
     "ename": "NameError",
     "evalue": "name 'plt' is not defined",
     "output_type": "error",
     "traceback": [
      "\u001b[1;31m---------------------------------------------------------------------------\u001b[0m",
      "\u001b[1;31mNameError\u001b[0m                                 Traceback (most recent call last)",
      "\u001b[1;32m~\\AppData\\Local\\Temp\\ipykernel_13080\\983405624.py\u001b[0m in \u001b[0;36m<module>\u001b[1;34m\u001b[0m\n\u001b[1;32m----> 1\u001b[1;33m \u001b[0mfig\u001b[0m \u001b[1;33m=\u001b[0m \u001b[0mplt\u001b[0m\u001b[1;33m.\u001b[0m\u001b[0mscatter\u001b[0m\u001b[1;33m(\u001b[0m\u001b[0mfitted_data\u001b[0m\u001b[1;33m[\u001b[0m\u001b[1;33m:\u001b[0m\u001b[1;33m,\u001b[0m\u001b[1;36m0\u001b[0m\u001b[1;33m]\u001b[0m\u001b[1;33m,\u001b[0m \u001b[0mfitted_data\u001b[0m\u001b[1;33m[\u001b[0m\u001b[1;33m:\u001b[0m\u001b[1;33m,\u001b[0m \u001b[1;36m1\u001b[0m\u001b[1;33m]\u001b[0m\u001b[1;33m,\u001b[0m \u001b[0malpha\u001b[0m\u001b[1;33m=\u001b[0m\u001b[1;36m0.2\u001b[0m\u001b[1;33m,\u001b[0m \u001b[0mc\u001b[0m\u001b[1;33m=\u001b[0m\u001b[0my\u001b[0m\u001b[1;33m)\u001b[0m\u001b[1;33m\u001b[0m\u001b[1;33m\u001b[0m\u001b[0m\n\u001b[0m\u001b[0;32m      2\u001b[0m \u001b[0mplt\u001b[0m\u001b[1;33m.\u001b[0m\u001b[0mtitle\u001b[0m\u001b[1;33m(\u001b[0m\u001b[1;34m\"Unequal variance data - reduced to 2D using t-sne\"\u001b[0m\u001b[1;33m)\u001b[0m\u001b[1;33m\u001b[0m\u001b[1;33m\u001b[0m\u001b[0m\n\u001b[0;32m      3\u001b[0m \u001b[0mplt\u001b[0m\u001b[1;33m.\u001b[0m\u001b[0msavefig\u001b[0m\u001b[1;33m(\u001b[0m\u001b[0moutp_fig_fname\u001b[0m\u001b[1;33m)\u001b[0m\u001b[1;33m\u001b[0m\u001b[1;33m\u001b[0m\u001b[0m\n",
      "\u001b[1;31mNameError\u001b[0m: name 'plt' is not defined"
     ]
    }
   ],
   "source": [
    "fig = plt.scatter(fitted_data[:,0], fitted_data[:, 1], alpha=0.2, c=y)\n",
    "plt.title(\"Unequal variance data - reduced to 2D using t-sne\")\n",
    "plt.savefig(outp_fig_fname)"
   ]
  },
  {
   "cell_type": "markdown",
   "id": "2db42eb2",
   "metadata": {},
   "source": [
    "# Prepare Data"
   ]
  },
  {
   "cell_type": "code",
   "execution_count": 174,
   "id": "ec05c5e3",
   "metadata": {},
   "outputs": [],
   "source": [
    "id_col = \"id\"\n",
    "target_col = \"y\""
   ]
  },
  {
   "cell_type": "code",
   "execution_count": 175,
   "id": "c512db5e",
   "metadata": {},
   "outputs": [
    {
     "data": {
      "text/html": [
       "<div>\n",
       "<style scoped>\n",
       "    .dataframe tbody tr th:only-of-type {\n",
       "        vertical-align: middle;\n",
       "    }\n",
       "\n",
       "    .dataframe tbody tr th {\n",
       "        vertical-align: top;\n",
       "    }\n",
       "\n",
       "    .dataframe thead th {\n",
       "        text-align: right;\n",
       "    }\n",
       "</style>\n",
       "<table border=\"1\" class=\"dataframe\">\n",
       "  <thead>\n",
       "    <tr style=\"text-align: right;\">\n",
       "      <th></th>\n",
       "      <th>id</th>\n",
       "      <th>x1</th>\n",
       "      <th>x2</th>\n",
       "      <th>x3</th>\n",
       "      <th>x4</th>\n",
       "      <th>x5</th>\n",
       "      <th>x6</th>\n",
       "      <th>x7</th>\n",
       "      <th>x8</th>\n",
       "      <th>y</th>\n",
       "    </tr>\n",
       "  </thead>\n",
       "  <tbody>\n",
       "    <tr>\n",
       "      <th>0</th>\n",
       "      <td>0</td>\n",
       "      <td>1.549367</td>\n",
       "      <td>2.711957</td>\n",
       "      <td>2.253189</td>\n",
       "      <td>1.869028</td>\n",
       "      <td>0.821987</td>\n",
       "      <td>0.055419</td>\n",
       "      <td>-0.685244</td>\n",
       "      <td>-1.958862</td>\n",
       "      <td>0.0</td>\n",
       "    </tr>\n",
       "    <tr>\n",
       "      <th>1</th>\n",
       "      <td>1</td>\n",
       "      <td>-0.491735</td>\n",
       "      <td>0.289829</td>\n",
       "      <td>1.244965</td>\n",
       "      <td>1.746405</td>\n",
       "      <td>-1.019959</td>\n",
       "      <td>-2.508979</td>\n",
       "      <td>-2.304052</td>\n",
       "      <td>-4.475070</td>\n",
       "      <td>0.0</td>\n",
       "    </tr>\n",
       "    <tr>\n",
       "      <th>2</th>\n",
       "      <td>2</td>\n",
       "      <td>-1.431725</td>\n",
       "      <td>0.705486</td>\n",
       "      <td>-0.139013</td>\n",
       "      <td>1.475356</td>\n",
       "      <td>-1.358219</td>\n",
       "      <td>-1.756315</td>\n",
       "      <td>-2.980724</td>\n",
       "      <td>-3.161342</td>\n",
       "      <td>0.0</td>\n",
       "    </tr>\n",
       "    <tr>\n",
       "      <th>3</th>\n",
       "      <td>3</td>\n",
       "      <td>-1.136216</td>\n",
       "      <td>-0.420235</td>\n",
       "      <td>0.448600</td>\n",
       "      <td>1.345502</td>\n",
       "      <td>-1.937306</td>\n",
       "      <td>-2.990424</td>\n",
       "      <td>-2.924327</td>\n",
       "      <td>-4.785418</td>\n",
       "      <td>0.0</td>\n",
       "    </tr>\n",
       "    <tr>\n",
       "      <th>4</th>\n",
       "      <td>4</td>\n",
       "      <td>0.391644</td>\n",
       "      <td>2.521337</td>\n",
       "      <td>3.793273</td>\n",
       "      <td>1.714069</td>\n",
       "      <td>2.154602</td>\n",
       "      <td>-0.132773</td>\n",
       "      <td>-0.294504</td>\n",
       "      <td>-2.442371</td>\n",
       "      <td>0.0</td>\n",
       "    </tr>\n",
       "  </tbody>\n",
       "</table>\n",
       "</div>"
      ],
      "text/plain": [
       "  id        x1        x2        x3        x4        x5        x6        x7  \\\n",
       "0  0  1.549367  2.711957  2.253189  1.869028  0.821987  0.055419 -0.685244   \n",
       "1  1 -0.491735  0.289829  1.244965  1.746405 -1.019959 -2.508979 -2.304052   \n",
       "2  2 -1.431725  0.705486 -0.139013  1.475356 -1.358219 -1.756315 -2.980724   \n",
       "3  3 -1.136216 -0.420235  0.448600  1.345502 -1.937306 -2.990424 -2.924327   \n",
       "4  4  0.391644  2.521337  3.793273  1.714069  2.154602 -0.132773 -0.294504   \n",
       "\n",
       "         x8    y  \n",
       "0 -1.958862  0.0  \n",
       "1 -4.475070  0.0  \n",
       "2 -3.161342  0.0  \n",
       "3 -4.785418  0.0  \n",
       "4 -2.442371  0.0  "
      ]
     },
     "execution_count": 175,
     "metadata": {},
     "output_type": "execute_result"
    }
   ],
   "source": [
    "cols = [f\"x{i+1}\" for i in range(NUM_FEATURES)]\n",
    "cols\n",
    "\n",
    "data = pd.DataFrame(X, columns=cols)\n",
    "data[\"y\"] = y\n",
    "data.insert(0, id_col, np.arange(X.shape[0]))\n",
    "\n",
    "data[id_col] = data[id_col].astype(str)\n",
    "data.head()"
   ]
  },
  {
   "cell_type": "code",
   "execution_count": 176,
   "id": "82c1753c",
   "metadata": {},
   "outputs": [],
   "source": [
    "df.to_csv(os.path.join(input_dir, f\"{dataset_name}.csv\"), index=False)"
   ]
  },
  {
   "cell_type": "code",
   "execution_count": 177,
   "id": "3b273d4c",
   "metadata": {},
   "outputs": [
    {
     "name": "stdout",
     "output_type": "stream",
     "text": [
      "<class 'pandas.core.frame.DataFrame'>\n",
      "RangeIndex: 8067 entries, 0 to 8066\n",
      "Data columns (total 10 columns):\n",
      " #   Column  Non-Null Count  Dtype  \n",
      "---  ------  --------------  -----  \n",
      " 0   id      8067 non-null   object \n",
      " 1   x1      8067 non-null   float64\n",
      " 2   x2      8067 non-null   float64\n",
      " 3   x3      8067 non-null   float64\n",
      " 4   x4      8067 non-null   float64\n",
      " 5   x5      8067 non-null   float64\n",
      " 6   x6      8067 non-null   float64\n",
      " 7   x7      8067 non-null   float64\n",
      " 8   x8      8067 non-null   float64\n",
      " 9   y       8067 non-null   float64\n",
      "dtypes: float64(9), object(1)\n",
      "memory usage: 630.4+ KB\n"
     ]
    }
   ],
   "source": [
    "data.info()"
   ]
  },
  {
   "cell_type": "markdown",
   "id": "f308b3c1",
   "metadata": {},
   "source": [
    "# Shuffle Data"
   ]
  },
  {
   "cell_type": "code",
   "execution_count": 178,
   "id": "0ac3ce66",
   "metadata": {},
   "outputs": [
    {
     "data": {
      "text/html": [
       "<div>\n",
       "<style scoped>\n",
       "    .dataframe tbody tr th:only-of-type {\n",
       "        vertical-align: middle;\n",
       "    }\n",
       "\n",
       "    .dataframe tbody tr th {\n",
       "        vertical-align: top;\n",
       "    }\n",
       "\n",
       "    .dataframe thead th {\n",
       "        text-align: right;\n",
       "    }\n",
       "</style>\n",
       "<table border=\"1\" class=\"dataframe\">\n",
       "  <thead>\n",
       "    <tr style=\"text-align: right;\">\n",
       "      <th></th>\n",
       "      <th>id</th>\n",
       "      <th>x1</th>\n",
       "      <th>x2</th>\n",
       "      <th>x3</th>\n",
       "      <th>x4</th>\n",
       "      <th>x5</th>\n",
       "      <th>x6</th>\n",
       "      <th>x7</th>\n",
       "      <th>x8</th>\n",
       "      <th>y</th>\n",
       "    </tr>\n",
       "  </thead>\n",
       "  <tbody>\n",
       "    <tr>\n",
       "      <th>742</th>\n",
       "      <td>742</td>\n",
       "      <td>0.821263</td>\n",
       "      <td>1.343610</td>\n",
       "      <td>2.218343</td>\n",
       "      <td>1.834532</td>\n",
       "      <td>0.216939</td>\n",
       "      <td>-0.893169</td>\n",
       "      <td>-1.122778</td>\n",
       "      <td>-2.936426</td>\n",
       "      <td>0.0</td>\n",
       "    </tr>\n",
       "    <tr>\n",
       "      <th>2127</th>\n",
       "      <td>2127</td>\n",
       "      <td>-3.408562</td>\n",
       "      <td>-1.614025</td>\n",
       "      <td>-5.366061</td>\n",
       "      <td>-2.875677</td>\n",
       "      <td>-5.318793</td>\n",
       "      <td>-0.411110</td>\n",
       "      <td>-1.907671</td>\n",
       "      <td>-4.631558</td>\n",
       "      <td>1.0</td>\n",
       "    </tr>\n",
       "    <tr>\n",
       "      <th>2107</th>\n",
       "      <td>2107</td>\n",
       "      <td>-1.075078</td>\n",
       "      <td>1.113914</td>\n",
       "      <td>-3.261471</td>\n",
       "      <td>0.453500</td>\n",
       "      <td>-3.322692</td>\n",
       "      <td>-0.863118</td>\n",
       "      <td>-1.230036</td>\n",
       "      <td>-2.235312</td>\n",
       "      <td>1.0</td>\n",
       "    </tr>\n",
       "    <tr>\n",
       "      <th>2943</th>\n",
       "      <td>2943</td>\n",
       "      <td>1.929826</td>\n",
       "      <td>1.168367</td>\n",
       "      <td>-0.745031</td>\n",
       "      <td>-1.736095</td>\n",
       "      <td>-1.200150</td>\n",
       "      <td>-2.689607</td>\n",
       "      <td>1.859517</td>\n",
       "      <td>-0.084284</td>\n",
       "      <td>2.0</td>\n",
       "    </tr>\n",
       "    <tr>\n",
       "      <th>4362</th>\n",
       "      <td>4362</td>\n",
       "      <td>0.709309</td>\n",
       "      <td>-0.544178</td>\n",
       "      <td>-2.868607</td>\n",
       "      <td>-0.897115</td>\n",
       "      <td>-2.500957</td>\n",
       "      <td>-2.566854</td>\n",
       "      <td>-3.685521</td>\n",
       "      <td>0.301707</td>\n",
       "      <td>3.0</td>\n",
       "    </tr>\n",
       "  </tbody>\n",
       "</table>\n",
       "</div>"
      ],
      "text/plain": [
       "        id        x1        x2        x3        x4        x5        x6  \\\n",
       "742    742  0.821263  1.343610  2.218343  1.834532  0.216939 -0.893169   \n",
       "2127  2127 -3.408562 -1.614025 -5.366061 -2.875677 -5.318793 -0.411110   \n",
       "2107  2107 -1.075078  1.113914 -3.261471  0.453500 -3.322692 -0.863118   \n",
       "2943  2943  1.929826  1.168367 -0.745031 -1.736095 -1.200150 -2.689607   \n",
       "4362  4362  0.709309 -0.544178 -2.868607 -0.897115 -2.500957 -2.566854   \n",
       "\n",
       "            x7        x8    y  \n",
       "742  -1.122778 -2.936426  0.0  \n",
       "2127 -1.907671 -4.631558  1.0  \n",
       "2107 -1.230036 -2.235312  1.0  \n",
       "2943  1.859517 -0.084284  2.0  \n",
       "4362 -3.685521  0.301707  3.0  "
      ]
     },
     "execution_count": 178,
     "metadata": {},
     "output_type": "execute_result"
    }
   ],
   "source": [
    "# shuffle data\n",
    "data = data.sample(frac=1, random_state=42)\n",
    "data.head()"
   ]
  },
  {
   "cell_type": "markdown",
   "id": "2a2c6f1c",
   "metadata": {},
   "source": [
    "# Save Main Data File"
   ]
  },
  {
   "cell_type": "code",
   "execution_count": 179,
   "id": "54f5dd60",
   "metadata": {},
   "outputs": [],
   "source": [
    "data.drop(target_col,axis=1).to_csv(outp_fname, index=False)"
   ]
  },
  {
   "cell_type": "markdown",
   "id": "9da2cc64",
   "metadata": {},
   "source": [
    "# Test Key"
   ]
  },
  {
   "cell_type": "code",
   "execution_count": 180,
   "id": "11a105ff",
   "metadata": {},
   "outputs": [],
   "source": [
    "data_key = data[[id_col, target_col]].rename(columns={target_col: \"__target__\"})\n",
    "data_key.to_csv(outp_test_key_fname, index=False)"
   ]
  },
  {
   "cell_type": "markdown",
   "id": "c144a784",
   "metadata": {},
   "source": [
    "# JSON inference request instance"
   ]
  },
  {
   "cell_type": "code",
   "execution_count": 181,
   "id": "fd14bb59",
   "metadata": {},
   "outputs": [
    {
     "name": "stdout",
     "output_type": "stream",
     "text": [
      "{'instances': [{'id': '742',\n",
      "                'x1': 0.8212626017058327,\n",
      "                'x2': 1.3436097250269787,\n",
      "                'x3': 2.218342650483472,\n",
      "                'x4': 1.8345322125875887,\n",
      "                'x5': 0.21693878700316338,\n",
      "                'x6': -0.8931694258126613,\n",
      "                'x7': -1.12277759374786,\n",
      "                'x8': -2.9364260841054546}]}\n"
     ]
    }
   ],
   "source": [
    "instance = data.drop(columns=[target_col]).reset_index(drop=True).loc[0].to_dict()\n",
    "infer_req_instance_dict = {  \"instances\": [ {**instance}, ] }\n",
    "pprint.pprint(infer_req_instance_dict)\n",
    "   \n",
    "with open(outp_infer_instances, 'w', encoding='utf8') as f:\n",
    "    json.dump(infer_req_instance_dict, f, indent=2, ensure_ascii=False)"
   ]
  },
  {
   "cell_type": "code",
   "execution_count": null,
   "id": "655b678c",
   "metadata": {},
   "outputs": [],
   "source": []
  }
 ],
 "metadata": {
  "kernelspec": {
   "display_name": "Python 3 (ipykernel)",
   "language": "python",
   "name": "python3"
  },
  "language_info": {
   "codemirror_mode": {
    "name": "ipython",
    "version": 3
   },
   "file_extension": ".py",
   "mimetype": "text/x-python",
   "name": "python",
   "nbconvert_exporter": "python",
   "pygments_lexer": "ipython3",
   "version": "3.9.13"
  }
 },
 "nbformat": 4,
 "nbformat_minor": 5
}
